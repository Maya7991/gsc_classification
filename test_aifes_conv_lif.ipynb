{
  "nbformat": 4,
  "nbformat_minor": 0,
  "metadata": {
    "colab": {
      "provenance": [],
      "authorship_tag": "ABX9TyMqYXhKnapHVPKDcONukJBi",
      "include_colab_link": true
    },
    "kernelspec": {
      "name": "python3",
      "display_name": "Python 3"
    },
    "language_info": {
      "name": "python"
    }
  },
  "cells": [
    {
      "cell_type": "markdown",
      "metadata": {
        "id": "view-in-github",
        "colab_type": "text"
      },
      "source": [
        "<a href=\"https://colab.research.google.com/github/Maya7991/gsc_classification/blob/main/test_aifes_conv_lif.ipynb\" target=\"_parent\"><img src=\"https://colab.research.google.com/assets/colab-badge.svg\" alt=\"Open In Colab\"/></a>"
      ]
    },
    {
      "cell_type": "code",
      "source": [
        "!pip install snntorch --quiet"
      ],
      "metadata": {
        "colab": {
          "base_uri": "https://localhost:8080/"
        },
        "id": "IIY43PJOrRME",
        "outputId": "b9e860aa-b4d2-4a73-f114-4a3cff8814cc"
      },
      "execution_count": 1,
      "outputs": [
        {
          "output_type": "stream",
          "name": "stdout",
          "text": [
            "\u001b[?25l   \u001b[90m━━━━━━━━━━━━━━━━━━━━━━━━━━━━━━━━━━━━━━━━\u001b[0m \u001b[32m0.0/125.6 kB\u001b[0m \u001b[31m?\u001b[0m eta \u001b[36m-:--:--\u001b[0m\r\u001b[2K   \u001b[90m━━━━━━━━━━━━━━━━━━━━━━━━━━━━━━━━━━━━━━━━\u001b[0m \u001b[32m125.6/125.6 kB\u001b[0m \u001b[31m6.2 MB/s\u001b[0m eta \u001b[36m0:00:00\u001b[0m\n",
            "\u001b[?25h"
          ]
        }
      ]
    },
    {
      "cell_type": "code",
      "source": [
        "import torch\n",
        "import torch.nn as nn\n",
        "import snntorch as snn\n",
        "from snntorch import spikeplot as splt\n",
        "import torch.nn.functional as F"
      ],
      "metadata": {
        "id": "Lsja-X7VrTcV"
      },
      "execution_count": 2,
      "outputs": []
    },
    {
      "cell_type": "code",
      "source": [
        "# Helper to cleanly print 2D tensors\n",
        "def print_2d_tensor(tensor, title=\"\"):\n",
        "    if title:\n",
        "        print(title)\n",
        "    arr = tensor.squeeze().detach().cpu().numpy()\n",
        "    for row in arr:\n",
        "        print(\"  \", [\"{:6.2f}\".format(x) for x in row])\n",
        "    print()"
      ],
      "metadata": {
        "id": "sieyc3PGL4ZI"
      },
      "execution_count": 3,
      "outputs": []
    },
    {
      "cell_type": "code",
      "execution_count": 7,
      "metadata": {
        "id": "HTSRB-zJrLz5"
      },
      "outputs": [],
      "source": [
        "# Set random seed for reproducibility\n",
        "torch.manual_seed(0)\n",
        "beta = 1.0\n",
        "T = 2  # timesteps\n",
        "N = 1  # batch size\n",
        "C_in = 2\n",
        "H = W = 3\n",
        "F = 2\n",
        "\n",
        "# Input: [T, N, C, H, W] -> [2, 1, 1, 3, 3]\n",
        "# input_data = torch.tensor([\n",
        "#     [[[[1.0, 2.0, 3.0],\n",
        "#        [4.0, 5.0, 6.0],\n",
        "#        [7.0, 8.0, 9.0]]]],\n",
        "\n",
        "#     [[[[9.0, 8.0, 7.0],\n",
        "#        [6.0, 5.0, 4.0],\n",
        "#        [3.0, 2.0, 1.0]]]]\n",
        "# ])\n",
        "input_data = torch.tensor([\n",
        "    [\n",
        "        [  # timestep 1\n",
        "            [[1, 2, 3], [4, 5, 6], [7, 8, 9]],  # Channel 0\n",
        "            [[10, 20, 30], [40, 50, 60], [70, 80, 90]]   # Channel 1\n",
        "        ]\n",
        "    ],\n",
        "    [\n",
        "        [  # timestep 2\n",
        "            [[9, 8, 7], [6, 5, 4], [3, 2, 1]] ,  # Channel 0\n",
        "            [[90, 80, 70], [60, 50, 40], [30, 20, 10]]  # Channel 1\n",
        "        ]\n",
        "    ]\n",
        "], dtype=torch.float32)\n",
        "\n",
        "# weights shape: (out_channels, in_channels, kernel_height, kernel_width)\n",
        "weights = torch.tensor([\n",
        "    [  # Filter 1\n",
        "        [[1, 0],\n",
        "         [0, -1]],\n",
        "        [[17, -6],\n",
        "         [-7, 4]]\n",
        "    ]\n",
        "    ,[  # Filter 2\n",
        "        [[-2, 1],\n",
        "         [6, 11]],\n",
        "        [[-3, 5],\n",
        "         [1, 13]]\n",
        "    ]\n",
        "], dtype=torch.float32)"
      ]
    },
    {
      "cell_type": "code",
      "source": [
        "# Manually define Conv2d layer with 1 filter of shape 1x2x2\n",
        "conv = nn.Conv2d(in_channels=C_in, out_channels=F, kernel_size=2, stride=1, bias=False)\n",
        "lif = snn.Leaky(beta=beta)\n",
        "\n",
        "with torch.no_grad():\n",
        "  conv.weight.copy_(weights)"
      ],
      "metadata": {
        "id": "93mbGQYCE8-j"
      },
      "execution_count": 8,
      "outputs": []
    },
    {
      "cell_type": "code",
      "source": [
        "\n",
        "# Track spikes and membrane potential\n",
        "spk_out = []\n",
        "mem_out = []\n",
        "\n",
        "# Simulate over 2 timesteps (T=2)\n",
        "for t in range(2):\n",
        "    x_t = input_data[t]         # Shape: [1, 1, 3, 3]\n",
        "    conv_out = conv(x_t)        # Shape: [1, 1, 2, 2]\n",
        "    spk, mem = lif(conv_out)\n",
        "    spk_out.append(spk)\n",
        "    mem_out.append(mem)\n",
        "    # print(conv_out)\n",
        "\n",
        "# Stack outputs\n",
        "spk_out = torch.stack(spk_out)  # Shape: [2, 1, 1, 2, 2]\n",
        "mem_out = torch.stack(mem_out)  # Shape: [2, 1, 1, 2, 2]"
      ],
      "metadata": {
        "id": "V6Fwr_MsFBNF"
      },
      "execution_count": 9,
      "outputs": []
    },
    {
      "cell_type": "code",
      "source": [
        "# Print outputs\n",
        "print(\"Convolution output at each timestep:\")\n",
        "for t in range(2):\n",
        "    print(f\"Time step {t}:\\n\", conv(input_data[t]))"
      ],
      "metadata": {
        "colab": {
          "base_uri": "https://localhost:8080/"
        },
        "id": "-73eYCrYZkyk",
        "outputId": "acffaec2-d6c3-435d-ba84-64dcb9cabb26"
      },
      "execution_count": 14,
      "outputs": [
        {
          "output_type": "stream",
          "name": "stdout",
          "text": [
            "Convolution output at each timestep:\n",
            "Time step 0:\n",
            " tensor([[[[ -34.,   46.],\n",
            "          [ 206.,  286.]],\n",
            "\n",
            "         [[ 839., 1015.],\n",
            "          [1367., 1543.]]]], grad_fn=<ConvolutionBackward0>)\n",
            "Time step 1:\n",
            " tensor([[[[834., 754.],\n",
            "          [594., 514.]],\n",
            "\n",
            "         [[921., 745.],\n",
            "          [393., 217.]]]], grad_fn=<ConvolutionBackward0>)\n"
          ]
        }
      ]
    },
    {
      "cell_type": "code",
      "source": [
        "print(\"\\nLIF membrane potential:\")\n",
        "print(mem_out)\n",
        "\n",
        "print(\"\\nLIF spike output:\")\n",
        "print(spk_out)"
      ],
      "metadata": {
        "colab": {
          "base_uri": "https://localhost:8080/"
        },
        "id": "eKU6TgFhZxmn",
        "outputId": "46d47001-ea8b-48a9-a29e-5c38aa032f5e"
      },
      "execution_count": 15,
      "outputs": [
        {
          "output_type": "stream",
          "name": "stdout",
          "text": [
            "\n",
            "LIF membrane potential:\n",
            "tensor([[[[[ -34.,   46.],\n",
            "           [ 206.,  286.]],\n",
            "\n",
            "          [[ 839., 1015.],\n",
            "           [1367., 1543.]]]],\n",
            "\n",
            "\n",
            "\n",
            "        [[[[ 800.,  799.],\n",
            "           [ 799.,  799.]],\n",
            "\n",
            "          [[1759., 1759.],\n",
            "           [1759., 1759.]]]]], grad_fn=<StackBackward0>)\n",
            "\n",
            "LIF spike output:\n",
            "tensor([[[[[0., 1.],\n",
            "           [1., 1.]],\n",
            "\n",
            "          [[1., 1.],\n",
            "           [1., 1.]]]],\n",
            "\n",
            "\n",
            "\n",
            "        [[[[1., 1.],\n",
            "           [1., 1.]],\n",
            "\n",
            "          [[1., 1.],\n",
            "           [1., 1.]]]]], grad_fn=<StackBackward0>)\n"
          ]
        }
      ]
    },
    {
      "cell_type": "code",
      "source": [
        "print(\"=== Convolution Output at Each Timestep ===\")\n",
        "for t in range(T):\n",
        "    print(f\"Time step {t}:\")\n",
        "    # print_2d_tensor(conv(input_data[t]))\n",
        "    # print_2d_tensor(spk_out[t], title=\"Spikes:\")\n",
        "    # print_2d_tensor(mem_out[t], title=\"Membrane:\")\n",
        "    # print()\n",
        "\n",
        "print(\"=== LIF Membrane Potential at Each Timestep ===\")\n",
        "for t in range(T):\n",
        "    print(f\"Time step {t}:\")\n",
        "    print_2d_tensor(mem_out[t], title=\"Membrane:\")\n",
        "\n",
        "print(\"=== LIF Spike Output at Each Timestep ===\")\n",
        "for t in range(T):\n",
        "    print(f\"Time step {t}:\")\n",
        "    print_2d_tensor(spk_out[t], title=\"Spikes:\")\n"
      ],
      "metadata": {
        "colab": {
          "base_uri": "https://localhost:8080/",
          "height": 443
        },
        "id": "qNTerfXprNPd",
        "outputId": "c7c10eac-1021-457d-f6bc-e3ae51541e85"
      },
      "execution_count": 13,
      "outputs": [
        {
          "output_type": "stream",
          "name": "stdout",
          "text": [
            "=== Convolution Output at Each Timestep ===\n",
            "Time step 0:\n",
            "Time step 1:\n",
            "=== LIF Membrane Potential at Each Timestep ===\n",
            "Time step 0:\n",
            "Membrane:\n"
          ]
        },
        {
          "output_type": "error",
          "ename": "TypeError",
          "evalue": "unsupported format string passed to numpy.ndarray.__format__",
          "traceback": [
            "\u001b[0;31m---------------------------------------------------------------------------\u001b[0m",
            "\u001b[0;31mTypeError\u001b[0m                                 Traceback (most recent call last)",
            "\u001b[0;32m<ipython-input-13-6753a6441961>\u001b[0m in \u001b[0;36m<cell line: 0>\u001b[0;34m()\u001b[0m\n\u001b[1;32m     10\u001b[0m \u001b[0;32mfor\u001b[0m \u001b[0mt\u001b[0m \u001b[0;32min\u001b[0m \u001b[0mrange\u001b[0m\u001b[0;34m(\u001b[0m\u001b[0mT\u001b[0m\u001b[0;34m)\u001b[0m\u001b[0;34m:\u001b[0m\u001b[0;34m\u001b[0m\u001b[0;34m\u001b[0m\u001b[0m\n\u001b[1;32m     11\u001b[0m     \u001b[0mprint\u001b[0m\u001b[0;34m(\u001b[0m\u001b[0;34mf\"Time step {t}:\"\u001b[0m\u001b[0;34m)\u001b[0m\u001b[0;34m\u001b[0m\u001b[0;34m\u001b[0m\u001b[0m\n\u001b[0;32m---> 12\u001b[0;31m     \u001b[0mprint_2d_tensor\u001b[0m\u001b[0;34m(\u001b[0m\u001b[0mmem_out\u001b[0m\u001b[0;34m[\u001b[0m\u001b[0mt\u001b[0m\u001b[0;34m]\u001b[0m\u001b[0;34m,\u001b[0m \u001b[0mtitle\u001b[0m\u001b[0;34m=\u001b[0m\u001b[0;34m\"Membrane:\"\u001b[0m\u001b[0;34m)\u001b[0m\u001b[0;34m\u001b[0m\u001b[0;34m\u001b[0m\u001b[0m\n\u001b[0m\u001b[1;32m     13\u001b[0m \u001b[0;34m\u001b[0m\u001b[0m\n\u001b[1;32m     14\u001b[0m \u001b[0mprint\u001b[0m\u001b[0;34m(\u001b[0m\u001b[0;34m\"=== LIF Spike Output at Each Timestep ===\"\u001b[0m\u001b[0;34m)\u001b[0m\u001b[0;34m\u001b[0m\u001b[0;34m\u001b[0m\u001b[0m\n",
            "\u001b[0;32m<ipython-input-3-79160cb86747>\u001b[0m in \u001b[0;36mprint_2d_tensor\u001b[0;34m(tensor, title)\u001b[0m\n\u001b[1;32m      5\u001b[0m     \u001b[0marr\u001b[0m \u001b[0;34m=\u001b[0m \u001b[0mtensor\u001b[0m\u001b[0;34m.\u001b[0m\u001b[0msqueeze\u001b[0m\u001b[0;34m(\u001b[0m\u001b[0;34m)\u001b[0m\u001b[0;34m.\u001b[0m\u001b[0mdetach\u001b[0m\u001b[0;34m(\u001b[0m\u001b[0;34m)\u001b[0m\u001b[0;34m.\u001b[0m\u001b[0mcpu\u001b[0m\u001b[0;34m(\u001b[0m\u001b[0;34m)\u001b[0m\u001b[0;34m.\u001b[0m\u001b[0mnumpy\u001b[0m\u001b[0;34m(\u001b[0m\u001b[0;34m)\u001b[0m\u001b[0;34m\u001b[0m\u001b[0;34m\u001b[0m\u001b[0m\n\u001b[1;32m      6\u001b[0m     \u001b[0;32mfor\u001b[0m \u001b[0mrow\u001b[0m \u001b[0;32min\u001b[0m \u001b[0marr\u001b[0m\u001b[0;34m:\u001b[0m\u001b[0;34m\u001b[0m\u001b[0;34m\u001b[0m\u001b[0m\n\u001b[0;32m----> 7\u001b[0;31m         \u001b[0mprint\u001b[0m\u001b[0;34m(\u001b[0m\u001b[0;34m\"  \"\u001b[0m\u001b[0;34m,\u001b[0m \u001b[0;34m[\u001b[0m\u001b[0;34m\"{:6.2f}\"\u001b[0m\u001b[0;34m.\u001b[0m\u001b[0mformat\u001b[0m\u001b[0;34m(\u001b[0m\u001b[0mx\u001b[0m\u001b[0;34m)\u001b[0m \u001b[0;32mfor\u001b[0m \u001b[0mx\u001b[0m \u001b[0;32min\u001b[0m \u001b[0mrow\u001b[0m\u001b[0;34m]\u001b[0m\u001b[0;34m)\u001b[0m\u001b[0;34m\u001b[0m\u001b[0;34m\u001b[0m\u001b[0m\n\u001b[0m\u001b[1;32m      8\u001b[0m     \u001b[0mprint\u001b[0m\u001b[0;34m(\u001b[0m\u001b[0;34m)\u001b[0m\u001b[0;34m\u001b[0m\u001b[0;34m\u001b[0m\u001b[0m\n",
            "\u001b[0;32m<ipython-input-3-79160cb86747>\u001b[0m in \u001b[0;36m<listcomp>\u001b[0;34m(.0)\u001b[0m\n\u001b[1;32m      5\u001b[0m     \u001b[0marr\u001b[0m \u001b[0;34m=\u001b[0m \u001b[0mtensor\u001b[0m\u001b[0;34m.\u001b[0m\u001b[0msqueeze\u001b[0m\u001b[0;34m(\u001b[0m\u001b[0;34m)\u001b[0m\u001b[0;34m.\u001b[0m\u001b[0mdetach\u001b[0m\u001b[0;34m(\u001b[0m\u001b[0;34m)\u001b[0m\u001b[0;34m.\u001b[0m\u001b[0mcpu\u001b[0m\u001b[0;34m(\u001b[0m\u001b[0;34m)\u001b[0m\u001b[0;34m.\u001b[0m\u001b[0mnumpy\u001b[0m\u001b[0;34m(\u001b[0m\u001b[0;34m)\u001b[0m\u001b[0;34m\u001b[0m\u001b[0;34m\u001b[0m\u001b[0m\n\u001b[1;32m      6\u001b[0m     \u001b[0;32mfor\u001b[0m \u001b[0mrow\u001b[0m \u001b[0;32min\u001b[0m \u001b[0marr\u001b[0m\u001b[0;34m:\u001b[0m\u001b[0;34m\u001b[0m\u001b[0;34m\u001b[0m\u001b[0m\n\u001b[0;32m----> 7\u001b[0;31m         \u001b[0mprint\u001b[0m\u001b[0;34m(\u001b[0m\u001b[0;34m\"  \"\u001b[0m\u001b[0;34m,\u001b[0m \u001b[0;34m[\u001b[0m\u001b[0;34m\"{:6.2f}\"\u001b[0m\u001b[0;34m.\u001b[0m\u001b[0mformat\u001b[0m\u001b[0;34m(\u001b[0m\u001b[0mx\u001b[0m\u001b[0;34m)\u001b[0m \u001b[0;32mfor\u001b[0m \u001b[0mx\u001b[0m \u001b[0;32min\u001b[0m \u001b[0mrow\u001b[0m\u001b[0;34m]\u001b[0m\u001b[0;34m)\u001b[0m\u001b[0;34m\u001b[0m\u001b[0;34m\u001b[0m\u001b[0m\n\u001b[0m\u001b[1;32m      8\u001b[0m     \u001b[0mprint\u001b[0m\u001b[0;34m(\u001b[0m\u001b[0;34m)\u001b[0m\u001b[0;34m\u001b[0m\u001b[0;34m\u001b[0m\u001b[0m\n",
            "\u001b[0;31mTypeError\u001b[0m: unsupported format string passed to numpy.ndarray.__format__"
          ]
        }
      ]
    },
    {
      "cell_type": "code",
      "source": [],
      "metadata": {
        "id": "UDx3b3t_LGtB"
      },
      "execution_count": 10,
      "outputs": []
    }
  ]
}