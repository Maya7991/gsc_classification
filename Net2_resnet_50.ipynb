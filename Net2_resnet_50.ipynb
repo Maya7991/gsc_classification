{
  "nbformat": 4,
  "nbformat_minor": 0,
  "metadata": {
    "colab": {
      "provenance": [],
      "authorship_tag": "ABX9TyP/EsbWgz2DwggMiiZIN90W",
      "include_colab_link": true
    },
    "kernelspec": {
      "name": "python3",
      "display_name": "Python 3"
    },
    "language_info": {
      "name": "python"
    }
  },
  "cells": [
    {
      "cell_type": "markdown",
      "metadata": {
        "id": "view-in-github",
        "colab_type": "text"
      },
      "source": [
        "<a href=\"https://colab.research.google.com/github/Maya7991/gsc_classification/blob/main/Net2_resnet_50.ipynb\" target=\"_parent\"><img src=\"https://colab.research.google.com/assets/colab-badge.svg\" alt=\"Open In Colab\"/></a>"
      ]
    },
    {
      "cell_type": "code",
      "source": [
        "import torchvision.models as models\n",
        "from torch import nn\n",
        "from torchvision import transforms\n",
        "\n",
        "from PIL import Image\n",
        "import matplotlib.pyplot as plt"
      ],
      "metadata": {
        "id": "lx8af-BK4_QR"
      },
      "execution_count": 6,
      "outputs": []
    },
    {
      "cell_type": "markdown",
      "source": [
        "* input shape: (B, 3, H, W)\n",
        "* outputs as patch-wise features of shape: (B, 49, output_dim) where 49 = 7 x 7\n",
        "*  spatial grid (from ResNet’s output)\n",
        "* output_dim = feature dimension (e.g., 512)\n",
        "\n",
        "\n",
        "Net2 is a image feature extractor which uses pretrained ResNet-50 backbone"
      ],
      "metadata": {
        "id": "4-_tTJjm5vYX"
      }
    },
    {
      "cell_type": "code",
      "execution_count": 2,
      "metadata": {
        "id": "J2DaHFzawEXR"
      },
      "outputs": [],
      "source": [
        "class Net2CNN(nn.Module):\n",
        "    def __init__(self, output_dim=512):\n",
        "        super(Net2CNN, self).__init__()\n",
        "        base_model = models.resnet50(pretrained=True)\n",
        "        self.feature_extractor = nn.Sequential(*list(base_model.children())[:-2])  # (B, 2048, 7, 7)\n",
        "        self.proj = nn.Conv2d(2048, output_dim, kernel_size=1)  # Reduce channels\n",
        "\n",
        "    def forward(self, x):\n",
        "        x = self.feature_extractor(x)  # (B, 2048, 7, 7)\n",
        "        x = self.proj(x)              # (B, output_dim, 7, 7)\n",
        "        x = x.flatten(2).transpose(1, 2)  # (B, 49, output_dim)\n",
        "        return x\n"
      ]
    },
    {
      "cell_type": "code",
      "source": [
        "net2 = Net2CNN(output_dim=512)\n",
        "net2.eval()\n",
        "print()"
      ],
      "metadata": {
        "colab": {
          "base_uri": "https://localhost:8080/"
        },
        "id": "-bwo0a1C7K7D",
        "outputId": "85756267-c714-49e2-8326-58cc66dd4e5f"
      },
      "execution_count": 8,
      "outputs": [
        {
          "output_type": "stream",
          "name": "stderr",
          "text": [
            "/usr/local/lib/python3.11/dist-packages/torchvision/models/_utils.py:208: UserWarning: The parameter 'pretrained' is deprecated since 0.13 and may be removed in the future, please use 'weights' instead.\n",
            "  warnings.warn(\n",
            "/usr/local/lib/python3.11/dist-packages/torchvision/models/_utils.py:223: UserWarning: Arguments other than a weight enum or `None` for 'weights' are deprecated since 0.13 and may be removed in the future. The current behavior is equivalent to passing `weights=ResNet50_Weights.IMAGENET1K_V1`. You can also use `weights=ResNet50_Weights.DEFAULT` to get the most up-to-date weights.\n",
            "  warnings.warn(msg)\n"
          ]
        },
        {
          "output_type": "stream",
          "name": "stdout",
          "text": [
            "\n"
          ]
        }
      ]
    },
    {
      "cell_type": "code",
      "source": [
        "transform = transforms.Compose([\n",
        "    transforms.Resize((224, 224)),\n",
        "    transforms.ToTensor(),\n",
        "    transforms.Normalize(mean=[0.485, 0.456, 0.406],\n",
        "                         std =[0.229, 0.224, 0.225])\n",
        "])\n",
        "\n",
        "# image = Image.open(\"image.jpg\").convert(\"RGB\")\n",
        "PIL_image = Image.new('RGB', (224, 224), color = 'black')\n",
        "img_tensor = transform(PIL_image).unsqueeze(0)  # (1, 3, 224, 224)\n",
        "\n",
        "features = net2(img_tensor)  # shape: (1, 49, 512)\n",
        "print(features.shape)"
      ],
      "metadata": {
        "colab": {
          "base_uri": "https://localhost:8080/"
        },
        "id": "S2JRFU6_7WDp",
        "outputId": "6b87699d-355a-4274-f234-4798ddaa3b99"
      },
      "execution_count": 5,
      "outputs": [
        {
          "output_type": "stream",
          "name": "stdout",
          "text": [
            "torch.Size([1, 49, 512])\n"
          ]
        }
      ]
    },
    {
      "cell_type": "code",
      "source": [
        "single_image_features = features[0]  # shape: (49, output_dim)\n",
        "\n",
        "# Reshape the features back to a spatial grid (output_dim, 7, 7)\n",
        "# We need to permute the dimensions from (49, output_dim) to (output_dim, 49) first\n",
        "# and then reshape 49 into 7x7.\n",
        "spatial_features = single_image_features.transpose(0, 1).reshape(-1, 7, 7) # shape: (output_dim, 7, 7)\n",
        "\n",
        "# Convert to numpy for visualization\n",
        "spatial_features_np = spatial_features.detach().numpy()\n",
        "\n",
        "# Define how many feature maps to visualize\n",
        "num_features_to_visualize = 8\n",
        "output_dim = spatial_features_np.shape[0] # Get the actual output_dim\n",
        "\n",
        "# Visualize a few feature maps\n",
        "plt.figure(figsize=(15, 5))\n",
        "for i in range(min(num_features_to_visualize, output_dim)):\n",
        "    plt.subplot(2, 4, i + 1) # Adjust subplot grid based on num_features_to_visualize\n",
        "    plt.imshow(spatial_features_np[i], cmap='gray')\n",
        "    plt.title(f'Feature Map {i}')\n",
        "    plt.axis('off')\n",
        "\n",
        "plt.tight_layout()\n",
        "plt.show()\n",
        "\n",
        "# You can also visualize the original image (as numpy array) for comparison\n",
        "# Convert the transformed image tensor back to numpy array and unnormalize (optional)\n",
        "# img_np = img_tensor.squeeze(0).permute(1, 2, 0).detach().numpy()\n",
        "# # Simple visualization without unnormalizing (might look weird)\n",
        "# plt.figure()\n",
        "# plt.imshow(img_np)\n",
        "# plt.title(\"Input Image (Tensor as RGB)\")\n",
        "# plt.axis('off')\n",
        "# plt.show()"
      ],
      "metadata": {
        "colab": {
          "base_uri": "https://localhost:8080/",
          "height": 507
        },
        "id": "4-5czj5f_v6p",
        "outputId": "e3c3e486-3929-415d-e80f-925607c23d55"
      },
      "execution_count": 7,
      "outputs": [
        {
          "output_type": "display_data",
          "data": {
            "text/plain": [
              "<Figure size 1500x500 with 8 Axes>"
            ],
            "image/png": "[encoded data removed]"
          },
          "metadata": {}
        }
      ]
    },
    {
      "cell_type": "code",
      "source": [],
      "metadata": {
        "id": "PrUG9Z1PAS-O"
      },
      "execution_count": null,
      "outputs": []
    }
  ]
}