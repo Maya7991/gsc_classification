{
  "nbformat": 4,
  "nbformat_minor": 0,
  "metadata": {
    "colab": {
      "provenance": [],
      "authorship_tag": "ABX9TyPgX8d01Z8sC60Ld+rGDFKg",
      "include_colab_link": true
    },
    "kernelspec": {
      "name": "python3",
      "display_name": "Python 3"
    },
    "language_info": {
      "name": "python"
    }
  },
  "cells": [
    {
      "cell_type": "markdown",
      "metadata": {
        "id": "view-in-github",
        "colab_type": "text"
      },
      "source": [
        "<a href=\"https://colab.research.google.com/github/Maya7991/gsc_classification/blob/main/syn_dataset_v2.ipynb\" target=\"_parent\"><img src=\"https://colab.research.google.com/assets/colab-badge.svg\" alt=\"Open In Colab\"/></a>"
      ]
    },
    {
      "cell_type": "code",
      "execution_count": null,
      "metadata": {
        "id": "eDidO0yIvElJ"
      },
      "outputs": [],
      "source": [
        "import os\n",
        "import random\n",
        "import subprocess\n",
        "import numpy as np\n",
        "import soundfile as sf\n",
        "from TTS.api import TTS\n",
        "from audiomentations import Compose, AddBackgroundNoise\n",
        "import librosa\n",
        "\n",
        "# === CONFIG ===\n",
        "KEYWORDS = [\"mask\", \"frame\"]\n",
        "NUM_SPEAKERS = 5\n",
        "BASE_DIR = \"gsc_compatible_keywords\"\n",
        "BACKGROUND_NOISE_DIR = \"background_noises\"\n",
        "TARGET_SR = 16000  # GSC-compatible\n",
        "TTS_MODEL = \"tts_models/en/vctk/vits\"\n",
        "\n",
        "# Augmentation toggles\n",
        "APPLY_AUGMENTATIONS = True\n",
        "PITCH_SHIFT_STEPS = [-100, 100]\n",
        "SPEED_FACTORS = [0.9, 1.1]\n",
        "APPLY_NOISE = True\n",
        "\n",
        "# === SETUP ===\n",
        "tts = TTS(model_name=TTS_MODEL)\n",
        "augment = Compose([\n",
        "    AddBackgroundNoise(\n",
        "        sounds_path=BACKGROUND_NOISE_DIR,\n",
        "        min_snr_in_db=5.0,\n",
        "        max_snr_in_db=20.0,\n",
        "        p=1.0\n",
        "    )\n",
        "]) if APPLY_NOISE else None\n",
        "\n",
        "def convert_to_gsc_format(input_path, output_path):\n",
        "    # Convert to mono, 16-bit PCM, 16kHz\n",
        "    audio, sr = librosa.load(input_path, sr=None, mono=True)\n",
        "    audio_resampled = librosa.resample(audio, orig_sr=sr, target_sr=TARGET_SR)\n",
        "    sf.write(output_path, audio_resampled, TARGET_SR, subtype='PCM_16')\n",
        "\n",
        "def apply_noise_and_convert(input_wav_path, output_path):\n",
        "    samples, sr = sf.read(input_wav_path)\n",
        "    if sr != TARGET_SR:\n",
        "        samples = librosa.resample(samples, sr, TARGET_SR)\n",
        "    noisy = augment(samples=samples, sample_rate=TARGET_SR)\n",
        "    sf.write(output_path, noisy, TARGET_SR, subtype='PCM_16')\n",
        "\n",
        "# === GENERATE SAMPLES ===\n",
        "for keyword in KEYWORDS:\n",
        "    keyword_dir = os.path.join(BASE_DIR, keyword)\n",
        "    os.makedirs(keyword_dir, exist_ok=True)\n",
        "\n",
        "    for speaker_id in range(NUM_SPEAKERS):\n",
        "        base_filename = f\"{keyword}_speaker{speaker_id}\"\n",
        "        raw_output = f\"{base_filename}_raw.wav\"\n",
        "        print(f\"Generating: {raw_output}\")\n",
        "        tts.tts_to_file(text=keyword, speaker=speaker_id, file_path=raw_output)\n",
        "\n",
        "        gsc_output = os.path.join(keyword_dir, f\"{base_filename}.wav\")\n",
        "        convert_to_gsc_format(raw_output, gsc_output)\n",
        "\n",
        "        paths_to_augment = [gsc_output]\n",
        "        os.remove(raw_output)  # Clean up raw file\n",
        "\n",
        "        # === Pitch & Speed ===\n",
        "        if APPLY_AUGMENTATIONS:\n",
        "            for shift in PITCH_SHIFT_STEPS:\n",
        "                aug_path = f\"{base_filename}_pitch{shift}.wav\"\n",
        "                subprocess.call([\"sox\", gsc_output, aug_path, \"pitch\", str(shift)])\n",
        "                final_path = os.path.join(keyword_dir, aug_path)\n",
        "                convert_to_gsc_format(aug_path, final_path)\n",
        "                os.remove(aug_path)\n",
        "                paths_to_augment.append(final_path)\n",
        "\n",
        "            for speed in SPEED_FACTORS:\n",
        "                aug_path = f\"{base_filename}_speed{speed}.wav\"\n",
        "                subprocess.call([\"sox\", gsc_output, aug_path, \"speed\", str(speed)])\n",
        "                final_path = os.path.join(keyword_dir, aug_path)\n",
        "                convert_to_gsc_format(aug_path, final_path)\n",
        "                os.remove(aug_path)\n",
        "                paths_to_augment.append(final_path)\n",
        "\n",
        "        # === Add Noise ===\n",
        "        if APPLY_NOISE:\n",
        "            for clean_path in paths_to_augment:\n",
        "                noisy_path = clean_path.replace(\".wav\", \"_noisy.wav\")\n",
        "                apply_noise_and_convert(clean_path, noisy_path)\n",
        "\n",
        "print(\"✅ Dataset is ready in GSC-compatible format.\")\n"
      ]
    }
  ]
}